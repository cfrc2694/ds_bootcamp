{
    "metadata": {
        "kernelspec": {
            "name": "SQL",
            "display_name": "SQL",
            "language": "sql"
        },
        "language_info": {
            "name": "sql",
            "version": ""
        }
    },
    "nbformat_minor": 2,
    "nbformat": 4,
    "cells": [
        {
            "cell_type": "code",
            "source": [
                "/* Crea una tabla llamada Shippers con los siguientes campos:\r\n",
                "ShipperID (int, identity, primary key)\r\n",
                "ShipperName (varchar(20), not null)\r\n",
                "Shipping_Cost_Percent (float, not null)\r\n",
                "Inserta los los nombres de las compañias de envio y el porcentaje de costo de envio con valores al azar generados pro chatgpt.\r\n",
                "*/\r\n",
                "CREATE TABLE Shippers (\r\n",
                "\tShipperID INT identity(1,1) PRIMARY KEY,\r\n",
                "\tShipperName VARCHAR(20) NOT NULL,\r\n",
                "\tShipping_Cost_Percent FLOAT NOT NULL\r\n",
                ")\r\n",
                "INSERT INTO Shippers (ShipperName, Shipping_Cost_Percent)\r\n",
                "VALUES\r\n",
                "    ('SwiftCargo', 0.1050),\r\n",
                "    ('StarShip Express', 0.1575),\r\n",
                "    ('JetStream Logistics', 0.1225),\r\n",
                "    ('ThunderTrans', 0.0890),\r\n",
                "    ('CosmoMovers', 0.1160),\r\n",
                "    ('AeroSwift Shipping', 0.1420),\r\n",
                "    ('ZephyrFreight', 0.0980),\r\n",
                "    ('MagmaTrans', 0.1345),\r\n",
                "    ('Eclipse Logistics', 0.1075),\r\n",
                "    ('GalaxyHaulers', 0.1630);"
            ],
            "metadata": {
                "azdata_cell_guid": "e1268475-252b-4d51-8a82-831ae687d8e9",
                "language": "sql"
            },
            "outputs": [
                {
                    "output_type": "display_data",
                    "data": {
                        "text/html": "(10 rows affected)"
                    },
                    "metadata": {}
                },
                {
                    "output_type": "display_data",
                    "data": {
                        "text/html": "Total execution time: 00:00:00.086"
                    },
                    "metadata": {}
                }
            ],
            "execution_count": 1
        },
        {
            "cell_type": "code",
            "source": [
                "/* Crear una tabla llamada Cities con los siguientes campos:\r\n",
                "CityID (int, autoincremental, primary key)\r\n",
                "CityName (varchar(50), not null)\r\n",
                "Country (varchar(50), not null)\r\n",
                "Insertar 27 ciudades en la tabla, con sus respectivos países, proporcionados por chatgpt.\r\n",
                "*/\r\n",
                "CREATE TABLE Cities (\r\n",
                "\tCityID INT IDENTITY(1,1) PRIMARY KEY,\r\n",
                "\tCityName VARCHAR(50) NOT NULL,\r\n",
                "\tCountry VARCHAR(50) NOT NULL\r\n",
                ")\r\n",
                "\r\n",
                "INSERT INTO Cities (CityName, Country)\r\n",
                "VALUES\r\n",
                "    ('New York', 'United States'),\r\n",
                "    ('London', 'United Kingdom'),\r\n",
                "    ('Tokyo', 'Japan'),\r\n",
                "    ('Paris', 'France'),\r\n",
                "    ('Sydney', 'Australia'),\r\n",
                "    ('Rome', 'Italy'),\r\n",
                "    ('Beijing', 'China'),\r\n",
                "    ('Cairo', 'Egypt'),\r\n",
                "    ('Moscow', 'Russia'),\r\n",
                "    ('Toronto', 'Canada'),\r\n",
                "    ('Buenos Aires', 'Argentina'),\r\n",
                "    ('Amsterdam', 'Netherlands'),\r\n",
                "    ('Dubai', 'United Arab Emirates'),\r\n",
                "    ('Istanbul', 'Turkey'),\r\n",
                "    ('Rio de Janeiro', 'Brazil'),\r\n",
                "    ('Mumbai', 'India'),\r\n",
                "    ('Barcelona', 'Spain'),\r\n",
                "    ('Berlin', 'Germany'),\r\n",
                "    ('Bangkok', 'Thailand'),\r\n",
                "    ('Cape Town', 'South Africa'),\r\n",
                "    ('Seoul', 'South Korea'),\r\n",
                "    ('Vienna', 'Austria'),\r\n",
                "    ('San Francisco', 'United States'),\r\n",
                "    ('Singapore', 'Singapore'),\r\n",
                "    ('Prague', 'Czech Republic'),\r\n",
                "    ('Athens', 'Greece'),\r\n",
                "    ('Auckland', 'New Zealand')"
            ],
            "metadata": {
                "azdata_cell_guid": "3af3c46c-6e6b-4136-aded-83e26542b8dc",
                "language": "sql",
                "tags": []
            },
            "outputs": [
                {
                    "output_type": "display_data",
                    "data": {
                        "text/html": "(27 rows affected)"
                    },
                    "metadata": {}
                },
                {
                    "output_type": "display_data",
                    "data": {
                        "text/html": "Total execution time: 00:00:00.094"
                    },
                    "metadata": {}
                }
            ],
            "execution_count": 2
        },
        {
            "cell_type": "code",
            "source": [
                "/* Crear Nuevos Campos */\r\n",
                "-- add age to employees\r\n",
                "ALTER TABLE Employees\r\n",
                "ADD Age INT;\r\n",
                "\r\n",
                "-- add age, cityid to customers\r\n",
                "ALTER TABLE Customers\r\n",
                "ADD Age INT;\r\n",
                "ALTER TABLE Customers\r\n",
                "ADD CityID INT;\r\n",
                "\r\n",
                "-- cityid must be a foreign key to cities\r\n",
                "ALTER TABLE Customers \r\n",
                "ADD CONSTRAINT FK_Customers_Cities\r\n",
                "FOREIGN KEY (CityID) REFERENCES Cities(CityID);\r\n",
                "\r\n",
                "-- add city of products\r\n",
                "ALTER TABLE Products\r\n",
                "ADD CityID INT;\r\n",
                "\r\n",
                "-- cityid must be a foreign key to cities\r\n",
                "ALTER TABLE Products \r\n",
                "ADD CONSTRAINT FK_Products_Cities\r\n",
                "FOREIGN KEY (CityID) REFERENCES Cities(CityID);\r\n",
                "\r\n",
                "-- add shippers to each sale\r\n",
                "ALTER TABLE Sales\r\n",
                "ADD ShipperID INT;\r\n",
                "-- shipperid must be a foreign key to shippers\r\n",
                "ALTER TABLE Sales\r\n",
                "ADD CONSTRAINT FK_Sales_Shippers\r\n",
                "FOREIGN KEY (ShipperID) REFERENCES Shippers(ShipperID);"
            ],
            "metadata": {
                "azdata_cell_guid": "b619046e-69e6-4d0b-8fca-b0cae2be47ba",
                "language": "sql"
            },
            "outputs": [
                {
                    "output_type": "display_data",
                    "data": {
                        "text/html": "Commands completed successfully."
                    },
                    "metadata": {}
                },
                {
                    "output_type": "display_data",
                    "data": {
                        "text/html": "Total execution time: 00:00:00.736"
                    },
                    "metadata": {}
                }
            ],
            "execution_count": 3
        },
        {
            "cell_type": "code",
            "source": [
                "/* Llenar nuevos campos con datos aleatorios */\r\n",
                "UPDATE Sales SET ShipperID = FLOOR(RAND(CHECKSUM(NEWID()))* (10) +1 ); \r\n",
                "\r\n",
                "UPDATE Customers SET CityID = FLOOR(RAND(CHECKSUM(NEWID())) * (27) + 1 );\r\n",
                "UPDATE Products SET CityID = FLOOR(RAND(CHECKSUM(NEWID())) * (27) + 1 );\r\n",
                "\r\n",
                "UPDATE Customers SET Age = FLOOR(RAND(CHECKSUM(NEWID())) * (70 - 18 + 1) + 18);\r\n",
                "UPDATE Employees SET Age = FLOOR(RAND(CHECKSUM(NEWID())) * (40 - 22 ) + 22);"
            ],
            "metadata": {
                "azdata_cell_guid": "232c2368-5c45-4090-ad3b-c57fa13f1d7a",
                "language": "sql"
            },
            "outputs": [
                {
                    "output_type": "display_data",
                    "data": {
                        "text/html": "(6715221 rows affected)"
                    },
                    "metadata": {}
                },
                {
                    "output_type": "display_data",
                    "data": {
                        "text/html": "(19759 rows affected)"
                    },
                    "metadata": {}
                },
                {
                    "output_type": "display_data",
                    "data": {
                        "text/html": "(504 rows affected)"
                    },
                    "metadata": {}
                },
                {
                    "output_type": "display_data",
                    "data": {
                        "text/html": "(19759 rows affected)"
                    },
                    "metadata": {}
                },
                {
                    "output_type": "display_data",
                    "data": {
                        "text/html": "(23 rows affected)"
                    },
                    "metadata": {}
                },
                {
                    "output_type": "display_data",
                    "data": {
                        "text/html": "Total execution time: 00:01:23.027"
                    },
                    "metadata": {}
                }
            ],
            "execution_count": 4
        },
        {
            "cell_type": "markdown",
            "source": [
                "\\# algunas consultas simples"
            ],
            "metadata": {
                "language": "sql",
                "azdata_cell_guid": "0bc101bc-a6a1-4754-8906-e82a49b5a725"
            },
            "attachments": {}
        },
        {
            "cell_type": "code",
            "source": [
                "/* Top 50 de Customers: Customers más plata han Gastan */\r\n",
                "SELECT Top(50) \r\n",
                "    CONCAT (Customers.FirstName, ' ', Customers.LastName) as client,\r\n",
                "    SUM(Products.Price*sales.Quantity) AS venta\r\n",
                "FROM Customers \r\n",
                "    JOIN sales on Customers.CustomerID = Sales.CustomerID \r\n",
                "    JOIN Products on Products.ProductID = Sales.ProductID\r\n",
                "Group BY CONCAT (Customers.FirstName, ' ', Customers.LastName)\r\n",
                "Order BY venta DESC"
            ],
            "metadata": {
                "language": "sql",
                "azdata_cell_guid": "4d85ad08-89d2-4bfe-8678-f53099316d7d"
            },
            "outputs": [
                {
                    "output_type": "display_data",
                    "data": {
                        "text/html": "(50 rows affected)"
                    },
                    "metadata": {}
                },
                {
                    "output_type": "display_data",
                    "data": {
                        "text/html": "Total execution time: 00:00:02.643"
                    },
                    "metadata": {}
                },
                {
                    "output_type": "execute_result",
                    "metadata": {},
                    "execution_count": 1,
                    "data": {
                        "application/vnd.dataresource+json": {
                            "schema": {
                                "fields": [
                                    {
                                        "name": "client"
                                    },
                                    {
                                        "name": "venta"
                                    }
                                ]
                            },
                            "data": [
                                {
                                    "client": "Darryl Hu",
                                    "venta": "70901002033.35"
                                },
                                {
                                    "client": "Dalton Coleman",
                                    "venta": "70565366033.52"
                                },
                                {
                                    "client": "Natalie Sanders",
                                    "venta": "67919141236.04"
                                },
                                {
                                    "client": "Frank Munoz",
                                    "venta": "51226777125.23"
                                },
                                {
                                    "client": "Samantha Taylor",
                                    "venta": "49244089224.94"
                                },
                                {
                                    "client": "Wyatt Thompson",
                                    "venta": "38451147673.85"
                                },
                                {
                                    "client": "Jeremy Wright",
                                    "venta": "37277067463.64"
                                },
                                {
                                    "client": "Richard White",
                                    "venta": "36053081079.66"
                                },
                                {
                                    "client": "Walter Navarro",
                                    "venta": "31782541136.18"
                                },
                                {
                                    "client": "Bruce Torres",
                                    "venta": "29017836751.51"
                                },
                                {
                                    "client": "Lori Alvarez",
                                    "venta": "28975336856.98"
                                },
                                {
                                    "client": "Katherine King",
                                    "venta": "28805206782.28"
                                },
                                {
                                    "client": "Christy Goel",
                                    "venta": "26646398814.95"
                                },
                                {
                                    "client": "Cole Gray",
                                    "venta": "26509966198.91"
                                },
                                {
                                    "client": "Angelica Jenkins",
                                    "venta": "26184384425.58"
                                },
                                {
                                    "client": "Melody Dominguez",
                                    "venta": "25202496779.42"
                                },
                                {
                                    "client": "Jack Carter",
                                    "venta": "23481667407.65"
                                },
                                {
                                    "client": "Andre Arun",
                                    "venta": "23075727425.98"
                                },
                                {
                                    "client": "Elizabeth White",
                                    "venta": "22301621253.78"
                                },
                                {
                                    "client": "Luke Edwards",
                                    "venta": "22143573243.17"
                                },
                                {
                                    "client": "Seth Perry",
                                    "venta": "21611917907.93"
                                },
                                {
                                    "client": "Sheena Lal",
                                    "venta": "20567497028.16"
                                },
                                {
                                    "client": "Grant Pal",
                                    "venta": "20231665650.74"
                                },
                                {
                                    "client": "Thomas Gonzales",
                                    "venta": "20209121543.33"
                                },
                                {
                                    "client": "Nathaniel Howard",
                                    "venta": "17068221799.20"
                                },
                                {
                                    "client": "Roy Romero",
                                    "venta": "16709121434.26"
                                },
                                {
                                    "client": "Jasmine Butler",
                                    "venta": "16545307949.96"
                                },
                                {
                                    "client": "Raul Xu",
                                    "venta": "15695789463.57"
                                },
                                {
                                    "client": "Deanna Moreno",
                                    "venta": "14901146976.16"
                                },
                                {
                                    "client": "James Bailey",
                                    "venta": "14454932619.89"
                                },
                                {
                                    "client": "Kellie Torres",
                                    "venta": "14106135173.80"
                                },
                                {
                                    "client": "Ryan Long",
                                    "venta": "13841625504.69"
                                },
                                {
                                    "client": "Lauren Cook",
                                    "venta": "13512906648.99"
                                },
                                {
                                    "client": "Fernando Williams",
                                    "venta": "13398876114.99"
                                },
                                {
                                    "client": "Anna Martinez",
                                    "venta": "12994345135.58"
                                },
                                {
                                    "client": "Toni Rodriguez",
                                    "venta": "12428472160.92"
                                },
                                {
                                    "client": "Paige Ramirez",
                                    "venta": "12293601726.11"
                                },
                                {
                                    "client": "Isabelle Barnes",
                                    "venta": "11856806816.53"
                                },
                                {
                                    "client": "Karen Berge",
                                    "venta": "11622857258.91"
                                },
                                {
                                    "client": "Alvin She",
                                    "venta": "11498632475.89"
                                },
                                {
                                    "client": "Noah Phillips",
                                    "venta": "11412950386.59"
                                },
                                {
                                    "client": "Victoria Rodriguez",
                                    "venta": "11412597807.81"
                                },
                                {
                                    "client": "Antonio Gonzales",
                                    "venta": "11112996743.05"
                                },
                                {
                                    "client": "Patricia Zubaty",
                                    "venta": "11112897792.81"
                                },
                                {
                                    "client": "Gloria Alonso",
                                    "venta": "10867989176.70"
                                },
                                {
                                    "client": "Joseph Rodriguez",
                                    "venta": "10795566860.58"
                                },
                                {
                                    "client": "Rosa Lu",
                                    "venta": "10655355750.90"
                                },
                                {
                                    "client": "Alexis Hughes",
                                    "venta": "10202086164.27"
                                },
                                {
                                    "client": "Jenna Lopez",
                                    "venta": "9856730929.07"
                                },
                                {
                                    "client": "Alex Carter",
                                    "venta": "9692407528.05"
                                }
                            ]
                        },
                        "text/html": [
                            "<table>",
                            "<tr><th>client</th><th>venta</th></tr>",
                            "<tr><td>Darryl Hu</td><td>70901002033.35</td></tr>",
                            "<tr><td>Dalton Coleman</td><td>70565366033.52</td></tr>",
                            "<tr><td>Natalie Sanders</td><td>67919141236.04</td></tr>",
                            "<tr><td>Frank Munoz</td><td>51226777125.23</td></tr>",
                            "<tr><td>Samantha Taylor</td><td>49244089224.94</td></tr>",
                            "<tr><td>Wyatt Thompson</td><td>38451147673.85</td></tr>",
                            "<tr><td>Jeremy Wright</td><td>37277067463.64</td></tr>",
                            "<tr><td>Richard White</td><td>36053081079.66</td></tr>",
                            "<tr><td>Walter Navarro</td><td>31782541136.18</td></tr>",
                            "<tr><td>Bruce Torres</td><td>29017836751.51</td></tr>",
                            "<tr><td>Lori Alvarez</td><td>28975336856.98</td></tr>",
                            "<tr><td>Katherine King</td><td>28805206782.28</td></tr>",
                            "<tr><td>Christy Goel</td><td>26646398814.95</td></tr>",
                            "<tr><td>Cole Gray</td><td>26509966198.91</td></tr>",
                            "<tr><td>Angelica Jenkins</td><td>26184384425.58</td></tr>",
                            "<tr><td>Melody Dominguez</td><td>25202496779.42</td></tr>",
                            "<tr><td>Jack Carter</td><td>23481667407.65</td></tr>",
                            "<tr><td>Andre Arun</td><td>23075727425.98</td></tr>",
                            "<tr><td>Elizabeth White</td><td>22301621253.78</td></tr>",
                            "<tr><td>Luke Edwards</td><td>22143573243.17</td></tr>",
                            "<tr><td>Seth Perry</td><td>21611917907.93</td></tr>",
                            "<tr><td>Sheena Lal</td><td>20567497028.16</td></tr>",
                            "<tr><td>Grant Pal</td><td>20231665650.74</td></tr>",
                            "<tr><td>Thomas Gonzales</td><td>20209121543.33</td></tr>",
                            "<tr><td>Nathaniel Howard</td><td>17068221799.20</td></tr>",
                            "<tr><td>Roy Romero</td><td>16709121434.26</td></tr>",
                            "<tr><td>Jasmine Butler</td><td>16545307949.96</td></tr>",
                            "<tr><td>Raul Xu</td><td>15695789463.57</td></tr>",
                            "<tr><td>Deanna Moreno</td><td>14901146976.16</td></tr>",
                            "<tr><td>James Bailey</td><td>14454932619.89</td></tr>",
                            "<tr><td>Kellie Torres</td><td>14106135173.80</td></tr>",
                            "<tr><td>Ryan Long</td><td>13841625504.69</td></tr>",
                            "<tr><td>Lauren Cook</td><td>13512906648.99</td></tr>",
                            "<tr><td>Fernando Williams</td><td>13398876114.99</td></tr>",
                            "<tr><td>Anna Martinez</td><td>12994345135.58</td></tr>",
                            "<tr><td>Toni Rodriguez</td><td>12428472160.92</td></tr>",
                            "<tr><td>Paige Ramirez</td><td>12293601726.11</td></tr>",
                            "<tr><td>Isabelle Barnes</td><td>11856806816.53</td></tr>",
                            "<tr><td>Karen Berge</td><td>11622857258.91</td></tr>",
                            "<tr><td>Alvin She</td><td>11498632475.89</td></tr>",
                            "<tr><td>Noah Phillips</td><td>11412950386.59</td></tr>",
                            "<tr><td>Victoria Rodriguez</td><td>11412597807.81</td></tr>",
                            "<tr><td>Antonio Gonzales</td><td>11112996743.05</td></tr>",
                            "<tr><td>Patricia Zubaty</td><td>11112897792.81</td></tr>",
                            "<tr><td>Gloria Alonso</td><td>10867989176.70</td></tr>",
                            "<tr><td>Joseph Rodriguez</td><td>10795566860.58</td></tr>",
                            "<tr><td>Rosa Lu</td><td>10655355750.90</td></tr>",
                            "<tr><td>Alexis Hughes</td><td>10202086164.27</td></tr>",
                            "<tr><td>Jenna Lopez</td><td>9856730929.07</td></tr>",
                            "<tr><td>Alex Carter</td><td>9692407528.05</td></tr>",
                            "</table>"
                        ]
                    }
                }
            ],
            "execution_count": 1
        },
        {
            "cell_type": "code",
            "source": [
                "/* Top 50 de Customers: Customers más pedidos hacen */\r\n",
                "SELECT Top(50) \r\n",
                "    CONCAT (Customers.FirstName, ' ', Customers.LastName) as client,\r\n",
                "    COUNT(sales.SalesID) AS n_compras\r\n",
                "FROM Customers \r\n",
                "    JOIN sales on Customers.CustomerID = Sales.CustomerID \r\n",
                "    JOIN Products on Products.ProductID = Sales.ProductID\r\n",
                "Group BY CONCAT (Customers.FirstName, ' ', Customers.LastName)\r\n",
                "ORDER BY n_compras DESC"
            ],
            "metadata": {
                "azdata_cell_guid": "8dbebb50-266a-44e5-a1b1-a8a94ec2c800",
                "language": "sql"
            },
            "outputs": [
                {
                    "output_type": "display_data",
                    "data": {
                        "text/html": "(50 rows affected)"
                    },
                    "metadata": {}
                },
                {
                    "output_type": "display_data",
                    "data": {
                        "text/html": "Total execution time: 00:00:00.916"
                    },
                    "metadata": {}
                },
                {
                    "output_type": "execute_result",
                    "metadata": {},
                    "execution_count": 2,
                    "data": {
                        "application/vnd.dataresource+json": {
                            "schema": {
                                "fields": [
                                    {
                                        "name": "client"
                                    },
                                    {
                                        "name": "n_compras"
                                    }
                                ]
                            },
                            "data": [
                                {
                                    "client": "Richard White",
                                    "n_compras": "38907"
                                },
                                {
                                    "client": "Eduardo Walker",
                                    "n_compras": "38790"
                                },
                                {
                                    "client": "Marcus Gray",
                                    "n_compras": "38341"
                                },
                                {
                                    "client": "Caleb Parker",
                                    "n_compras": "37814"
                                },
                                {
                                    "client": "Deanna Moreno",
                                    "n_compras": "34023"
                                },
                                {
                                    "client": "Nancy Chapman",
                                    "n_compras": "33336"
                                },
                                {
                                    "client": "Alan Guo",
                                    "n_compras": "33207"
                                },
                                {
                                    "client": "Paige Ramirez",
                                    "n_compras": "33188"
                                },
                                {
                                    "client": "Mark Lee",
                                    "n_compras": "33010"
                                },
                                {
                                    "client": "Isaac James",
                                    "n_compras": "32981"
                                },
                                {
                                    "client": "Robin Hernandez",
                                    "n_compras": "32961"
                                },
                                {
                                    "client": "Lauren Cook",
                                    "n_compras": "32854"
                                },
                                {
                                    "client": "Joyce Jarvis",
                                    "n_compras": "32739"
                                },
                                {
                                    "client": "Ryan Long",
                                    "n_compras": "32733"
                                },
                                {
                                    "client": "Carrie Gill",
                                    "n_compras": "32714"
                                },
                                {
                                    "client": "Andrew Jackson",
                                    "n_compras": "32675"
                                },
                                {
                                    "client": "Kathryn Deng",
                                    "n_compras": "32642"
                                },
                                {
                                    "client": "Elizabeth White",
                                    "n_compras": "32607"
                                },
                                {
                                    "client": "Karl Raje",
                                    "n_compras": "32529"
                                },
                                {
                                    "client": "Carlos Rivera",
                                    "n_compras": "32517"
                                },
                                {
                                    "client": "Micheal Travers",
                                    "n_compras": "32486"
                                },
                                {
                                    "client": "Leslie Ortega",
                                    "n_compras": "32483"
                                },
                                {
                                    "client": "Gerald Gomez",
                                    "n_compras": "32475"
                                },
                                {
                                    "client": "Emmanuel Suri",
                                    "n_compras": "32432"
                                },
                                {
                                    "client": "Seth Perry",
                                    "n_compras": "32406"
                                },
                                {
                                    "client": "Kellie Torres",
                                    "n_compras": "32393"
                                },
                                {
                                    "client": "Katelyn Rogers",
                                    "n_compras": "32373"
                                },
                                {
                                    "client": "Sheena Lal",
                                    "n_compras": "32362"
                                },
                                {
                                    "client": "Taylor Henderson",
                                    "n_compras": "32359"
                                },
                                {
                                    "client": "Sylvia Caldwell",
                                    "n_compras": "32354"
                                },
                                {
                                    "client": "Ethan Clark",
                                    "n_compras": "32311"
                                },
                                {
                                    "client": "Heidi Rodriguez",
                                    "n_compras": "32292"
                                },
                                {
                                    "client": "Mackenzie Carter",
                                    "n_compras": "32201"
                                },
                                {
                                    "client": "Emily Clark",
                                    "n_compras": "32192"
                                },
                                {
                                    "client": "Kelvin He",
                                    "n_compras": "32189"
                                },
                                {
                                    "client": "Rachel Ramirez",
                                    "n_compras": "32170"
                                },
                                {
                                    "client": "Joseph Rodriguez",
                                    "n_compras": "32131"
                                },
                                {
                                    "client": "Marcus Hall",
                                    "n_compras": "32128"
                                },
                                {
                                    "client": "Nathaniel Morris",
                                    "n_compras": "32123"
                                },
                                {
                                    "client": "Rosa Lu",
                                    "n_compras": "32068"
                                },
                                {
                                    "client": "Alvin She",
                                    "n_compras": "32045"
                                },
                                {
                                    "client": "Alyssa Wood",
                                    "n_compras": "32044"
                                },
                                {
                                    "client": "Samuel Russell",
                                    "n_compras": "32031"
                                },
                                {
                                    "client": "Luis Hayes",
                                    "n_compras": "32008"
                                },
                                {
                                    "client": "Sierra Hernandez",
                                    "n_compras": "32001"
                                },
                                {
                                    "client": "Angel Roberts",
                                    "n_compras": "31982"
                                },
                                {
                                    "client": "Anna Martinez",
                                    "n_compras": "31979"
                                },
                                {
                                    "client": "Diane Suarez",
                                    "n_compras": "31931"
                                },
                                {
                                    "client": "Priscilla Raji",
                                    "n_compras": "31927"
                                },
                                {
                                    "client": "Cesar Perez",
                                    "n_compras": "31917"
                                }
                            ]
                        },
                        "text/html": [
                            "<table>",
                            "<tr><th>client</th><th>n_compras</th></tr>",
                            "<tr><td>Richard White</td><td>38907</td></tr>",
                            "<tr><td>Eduardo Walker</td><td>38790</td></tr>",
                            "<tr><td>Marcus Gray</td><td>38341</td></tr>",
                            "<tr><td>Caleb Parker</td><td>37814</td></tr>",
                            "<tr><td>Deanna Moreno</td><td>34023</td></tr>",
                            "<tr><td>Nancy Chapman</td><td>33336</td></tr>",
                            "<tr><td>Alan Guo</td><td>33207</td></tr>",
                            "<tr><td>Paige Ramirez</td><td>33188</td></tr>",
                            "<tr><td>Mark Lee</td><td>33010</td></tr>",
                            "<tr><td>Isaac James</td><td>32981</td></tr>",
                            "<tr><td>Robin Hernandez</td><td>32961</td></tr>",
                            "<tr><td>Lauren Cook</td><td>32854</td></tr>",
                            "<tr><td>Joyce Jarvis</td><td>32739</td></tr>",
                            "<tr><td>Ryan Long</td><td>32733</td></tr>",
                            "<tr><td>Carrie Gill</td><td>32714</td></tr>",
                            "<tr><td>Andrew Jackson</td><td>32675</td></tr>",
                            "<tr><td>Kathryn Deng</td><td>32642</td></tr>",
                            "<tr><td>Elizabeth White</td><td>32607</td></tr>",
                            "<tr><td>Karl Raje</td><td>32529</td></tr>",
                            "<tr><td>Carlos Rivera</td><td>32517</td></tr>",
                            "<tr><td>Micheal Travers</td><td>32486</td></tr>",
                            "<tr><td>Leslie Ortega</td><td>32483</td></tr>",
                            "<tr><td>Gerald Gomez</td><td>32475</td></tr>",
                            "<tr><td>Emmanuel Suri</td><td>32432</td></tr>",
                            "<tr><td>Seth Perry</td><td>32406</td></tr>",
                            "<tr><td>Kellie Torres</td><td>32393</td></tr>",
                            "<tr><td>Katelyn Rogers</td><td>32373</td></tr>",
                            "<tr><td>Sheena Lal</td><td>32362</td></tr>",
                            "<tr><td>Taylor Henderson</td><td>32359</td></tr>",
                            "<tr><td>Sylvia Caldwell</td><td>32354</td></tr>",
                            "<tr><td>Ethan Clark</td><td>32311</td></tr>",
                            "<tr><td>Heidi Rodriguez</td><td>32292</td></tr>",
                            "<tr><td>Mackenzie Carter</td><td>32201</td></tr>",
                            "<tr><td>Emily Clark</td><td>32192</td></tr>",
                            "<tr><td>Kelvin He</td><td>32189</td></tr>",
                            "<tr><td>Rachel Ramirez</td><td>32170</td></tr>",
                            "<tr><td>Joseph Rodriguez</td><td>32131</td></tr>",
                            "<tr><td>Marcus Hall</td><td>32128</td></tr>",
                            "<tr><td>Nathaniel Morris</td><td>32123</td></tr>",
                            "<tr><td>Rosa Lu</td><td>32068</td></tr>",
                            "<tr><td>Alvin She</td><td>32045</td></tr>",
                            "<tr><td>Alyssa Wood</td><td>32044</td></tr>",
                            "<tr><td>Samuel Russell</td><td>32031</td></tr>",
                            "<tr><td>Luis Hayes</td><td>32008</td></tr>",
                            "<tr><td>Sierra Hernandez</td><td>32001</td></tr>",
                            "<tr><td>Angel Roberts</td><td>31982</td></tr>",
                            "<tr><td>Anna Martinez</td><td>31979</td></tr>",
                            "<tr><td>Diane Suarez</td><td>31931</td></tr>",
                            "<tr><td>Priscilla Raji</td><td>31927</td></tr>",
                            "<tr><td>Cesar Perez</td><td>31917</td></tr>",
                            "</table>"
                        ]
                    }
                }
            ],
            "execution_count": 2
        },
        {
            "cell_type": "code",
            "source": [
                "/* Ranked Principales Shippers: Los que más envíos hacen */\r\n",
                "SELECT TOP(5)\r\n",
                "\tShippers.ShipperName, \r\n",
                "\tCOUNT(sales.SalesID) AS n_Envios\r\n",
                "FROM sales \r\n",
                "\tJOIN Shippers on Shippers.ShipperID = Sales.ShipperID\r\n",
                "GROUP BY Shippers.ShipperName\r\n",
                "Order By n_Envios  DESC"
            ],
            "metadata": {
                "azdata_cell_guid": "6036f997-6ee5-46fb-8a88-187b78e69443",
                "language": "sql"
            },
            "outputs": [
                {
                    "output_type": "display_data",
                    "data": {
                        "text/html": "(5 rows affected)"
                    },
                    "metadata": {}
                },
                {
                    "output_type": "display_data",
                    "data": {
                        "text/html": "Total execution time: 00:00:01.155"
                    },
                    "metadata": {}
                },
                {
                    "output_type": "execute_result",
                    "metadata": {},
                    "execution_count": 4,
                    "data": {
                        "application/vnd.dataresource+json": {
                            "schema": {
                                "fields": [
                                    {
                                        "name": "ShipperName"
                                    },
                                    {
                                        "name": "n_Envios"
                                    }
                                ]
                            },
                            "data": [
                                {
                                    "ShipperName": "AeroSwift Shipping",
                                    "n_Envios": "673214"
                                },
                                {
                                    "ShipperName": "JetStream Logistics",
                                    "n_Envios": "672261"
                                },
                                {
                                    "ShipperName": "CosmoMovers",
                                    "n_Envios": "672202"
                                },
                                {
                                    "ShipperName": "GalaxyHaulers",
                                    "n_Envios": "671847"
                                },
                                {
                                    "ShipperName": "ZephyrFreight",
                                    "n_Envios": "671774"
                                }
                            ]
                        },
                        "text/html": [
                            "<table>",
                            "<tr><th>ShipperName</th><th>n_Envios</th></tr>",
                            "<tr><td>AeroSwift Shipping</td><td>673214</td></tr>",
                            "<tr><td>JetStream Logistics</td><td>672261</td></tr>",
                            "<tr><td>CosmoMovers</td><td>672202</td></tr>",
                            "<tr><td>GalaxyHaulers</td><td>671847</td></tr>",
                            "<tr><td>ZephyrFreight</td><td>671774</td></tr>",
                            "</table>"
                        ]
                    }
                }
            ],
            "execution_count": 4
        },
        {
            "cell_type": "code",
            "source": [
                "/* Ranked Principales Shippers: COSTOS DE ENVÍO  */\r\n",
                "SELECT Top(5)\r\n",
                "\tShippers.ShipperName, \r\n",
                "\tSUM(Shippers.Shipping_Cost_Percent *  sales.Quantity * Products.Price ) AS Costo_Envios\r\n",
                "FROM sales \r\n",
                "\tJOIN Shippers on Shippers.ShipperID = Sales.ShipperID\r\n",
                "\tJOIN Products on Sales.ProductID = Products.ProductID\r\n",
                "GROUP BY Shippers.ShipperName\r\n",
                "Order By Costo_Envios DESC"
            ],
            "metadata": {
                "azdata_cell_guid": "2ab669b5-0602-4933-8342-1a7d1ba982eb",
                "language": "sql"
            },
            "outputs": [
                {
                    "output_type": "display_data",
                    "data": {
                        "text/html": "(5 rows affected)"
                    },
                    "metadata": {}
                },
                {
                    "output_type": "display_data",
                    "data": {
                        "text/html": "Total execution time: 00:00:04.969"
                    },
                    "metadata": {}
                },
                {
                    "output_type": "execute_result",
                    "metadata": {},
                    "execution_count": 5,
                    "data": {
                        "application/vnd.dataresource+json": {
                            "schema": {
                                "fields": [
                                    {
                                        "name": "ShipperName"
                                    },
                                    {
                                        "name": "Costo_Envios"
                                    }
                                ]
                            },
                            "data": [
                                {
                                    "ShipperName": "GalaxyHaulers",
                                    "Costo_Envios": "30437439878.378532"
                                },
                                {
                                    "ShipperName": "StarShip Express",
                                    "Costo_Envios": "29262427306.63086"
                                },
                                {
                                    "ShipperName": "AeroSwift Shipping",
                                    "Costo_Envios": "26609357186.44352"
                                },
                                {
                                    "ShipperName": "MagmaTrans",
                                    "Costo_Envios": "25166816420.32429"
                                },
                                {
                                    "ShipperName": "JetStream Logistics",
                                    "Costo_Envios": "22837066381.89254"
                                }
                            ]
                        },
                        "text/html": [
                            "<table>",
                            "<tr><th>ShipperName</th><th>Costo_Envios</th></tr>",
                            "<tr><td>GalaxyHaulers</td><td>30437439878.378532</td></tr>",
                            "<tr><td>StarShip Express</td><td>29262427306.63086</td></tr>",
                            "<tr><td>AeroSwift Shipping</td><td>26609357186.44352</td></tr>",
                            "<tr><td>MagmaTrans</td><td>25166816420.32429</td></tr>",
                            "<tr><td>JetStream Logistics</td><td>22837066381.89254</td></tr>",
                            "</table>"
                        ]
                    }
                }
            ],
            "execution_count": 5
        },
        {
            "cell_type": "code",
            "source": [
                "/* Ranked Productos: Productos más vendidos */\r\n",
                "SELECT \r\n",
                "\tTOP(10)\r\n",
                "\tProducts.Name,\r\n",
                "\tsum(sales.Quantity) as n_ventas\r\n",
                "FROM Products\r\n",
                "\tJoin Sales on sales.ProductID = Products.ProductID\r\n",
                "group by Products.Name\r\n",
                "order by n_ventas desc"
            ],
            "metadata": {
                "azdata_cell_guid": "d58cff7d-c107-4c1d-96b0-21cac6f0a312",
                "language": "sql"
            },
            "outputs": [
                {
                    "output_type": "display_data",
                    "data": {
                        "text/html": "(10 rows affected)"
                    },
                    "metadata": {}
                },
                {
                    "output_type": "display_data",
                    "data": {
                        "text/html": "Total execution time: 00:00:01.066"
                    },
                    "metadata": {}
                },
                {
                    "output_type": "execute_result",
                    "metadata": {},
                    "execution_count": 6,
                    "data": {
                        "application/vnd.dataresource+json": {
                            "schema": {
                                "fields": [
                                    {
                                        "name": "Name"
                                    },
                                    {
                                        "name": "n_ventas"
                                    }
                                ]
                            },
                            "data": [
                                {
                                    "Name": "Touring-3000 Blue, 54",
                                    "n_ventas": "32886900"
                                },
                                {
                                    "Name": "LL Road Seat/Saddle",
                                    "n_ventas": "30968983"
                                },
                                {
                                    "Name": "Touring Pedal",
                                    "n_ventas": "30021052"
                                },
                                {
                                    "Name": "Rear Derailleur",
                                    "n_ventas": "29975003"
                                },
                                {
                                    "Name": "ML Mountain Tire",
                                    "n_ventas": "29085729"
                                },
                                {
                                    "Name": "Headlights - Weatherproof",
                                    "n_ventas": "28913399"
                                },
                                {
                                    "Name": "ML Mountain Frame - Black, 44",
                                    "n_ventas": "27875123"
                                },
                                {
                                    "Name": "ML Mountain Frame-W - Silver, 38",
                                    "n_ventas": "27486126"
                                },
                                {
                                    "Name": "LL Road Front Wheel",
                                    "n_ventas": "27396348"
                                },
                                {
                                    "Name": "Touring-3000 Blue, 58",
                                    "n_ventas": "26872899"
                                }
                            ]
                        },
                        "text/html": [
                            "<table>",
                            "<tr><th>Name</th><th>n_ventas</th></tr>",
                            "<tr><td>Touring-3000 Blue, 54</td><td>32886900</td></tr>",
                            "<tr><td>LL Road Seat/Saddle</td><td>30968983</td></tr>",
                            "<tr><td>Touring Pedal</td><td>30021052</td></tr>",
                            "<tr><td>Rear Derailleur</td><td>29975003</td></tr>",
                            "<tr><td>ML Mountain Tire</td><td>29085729</td></tr>",
                            "<tr><td>Headlights - Weatherproof</td><td>28913399</td></tr>",
                            "<tr><td>ML Mountain Frame - Black, 44</td><td>27875123</td></tr>",
                            "<tr><td>ML Mountain Frame-W - Silver, 38</td><td>27486126</td></tr>",
                            "<tr><td>LL Road Front Wheel</td><td>27396348</td></tr>",
                            "<tr><td>Touring-3000 Blue, 58</td><td>26872899</td></tr>",
                            "</table>"
                        ]
                    }
                }
            ],
            "execution_count": 6
        },
        {
            "cell_type": "code",
            "source": [
                "/* Top 5 de ciudades con más pedidos y el producto más comprado en cada una de ellas */\r\n",
                "SELECT TOP(5)\r\n",
                "    Cities.CityName,\r\n",
                "    COUNT(Sales.SalesID) as n_pedidos,\r\n",
                "    r.Name as producto_mas_comprado\r\n",
                "FROM Cities\r\n",
                "JOIN Customers ON Customers.CityID = Cities.CityID\r\n",
                "JOIN Sales ON Sales.CustomerID = Customers.CustomerID\r\n",
                "JOIN (\r\n",
                "    /* \r\n",
                "        Tabla con el producto más comprado por ciudad\r\n",
                "    */\r\n",
                "    SELECT Cityname, quant, Name, CityID\r\n",
                "    FROM (\r\n",
                "\t\t/*  \r\n",
                "\t\t    Tabla con la cantidad de productos vendidos por ciudad y producto, \r\n",
                "            ordenada de mayor a menor y con un número de fila para subtabla de cada ciudad.\r\n",
                "\t\t*/\r\n",
                "        SELECT Cities.Cityname, SUM(Sales.Quantity) as quant, products.Name, Cities.CityID,\r\n",
                "               ROW_NUMBER() OVER (PARTITION BY Cities.Cityname ORDER BY SUM(Sales.Quantity) DESC) as rn\r\n",
                "        FROM products\r\n",
                "        JOIN sales ON Sales.ProductID = Products.ProductID\r\n",
                "        JOIN Customers ON Sales.CustomerID = Customers.CustomerID\r\n",
                "        JOIN Cities ON Customers.CityID = Cities.CityID\r\n",
                "        GROUP BY Cities.Cityname, Cities.CityID, products.Name\r\n",
                "    ) as t\r\n",
                "    WHERE rn = 1\r\n",
                ") as r ON r.CityID = Cities.CityID\r\n",
                "GROUP BY Cities.CityName, r.Name\r\n",
                "ORDER BY n_pedidos DESC;"
            ],
            "metadata": {
                "azdata_cell_guid": "b9a2e5c6-b6f6-45fa-a668-f1c1a1c0b1c6",
                "language": "sql"
            },
            "outputs": [
                {
                    "output_type": "display_data",
                    "data": {
                        "text/html": "(5 rows affected)"
                    },
                    "metadata": {}
                },
                {
                    "output_type": "display_data",
                    "data": {
                        "text/html": "Total execution time: 00:00:06.506"
                    },
                    "metadata": {}
                },
                {
                    "output_type": "execute_result",
                    "metadata": {},
                    "execution_count": 7,
                    "data": {
                        "application/vnd.dataresource+json": {
                            "schema": {
                                "fields": [
                                    {
                                        "name": "CityName"
                                    },
                                    {
                                        "name": "n_pedidos"
                                    },
                                    {
                                        "name": "producto_mas_comprado"
                                    }
                                ]
                            },
                            "data": [
                                {
                                    "CityName": "Tokyo",
                                    "n_pedidos": "425527",
                                    "producto_mas_comprado": "Lock Nut 16"
                                },
                                {
                                    "CityName": "Cairo",
                                    "n_pedidos": "422166",
                                    "producto_mas_comprado": "Touring-3000 Blue, 58"
                                },
                                {
                                    "CityName": "Auckland",
                                    "n_pedidos": "328185",
                                    "producto_mas_comprado": "Chainring Nut"
                                },
                                {
                                    "CityName": "Athens",
                                    "n_pedidos": "318773",
                                    "producto_mas_comprado": "LL Road Seat/Saddle"
                                },
                                {
                                    "CityName": "Moscow",
                                    "n_pedidos": "316679",
                                    "producto_mas_comprado": "Touring-3000 Blue, 62"
                                }
                            ]
                        },
                        "text/html": [
                            "<table>",
                            "<tr><th>CityName</th><th>n_pedidos</th><th>producto_mas_comprado</th></tr>",
                            "<tr><td>Tokyo</td><td>425527</td><td>Lock Nut 16</td></tr>",
                            "<tr><td>Cairo</td><td>422166</td><td>Touring-3000 Blue, 58</td></tr>",
                            "<tr><td>Auckland</td><td>328185</td><td>Chainring Nut</td></tr>",
                            "<tr><td>Athens</td><td>318773</td><td>LL Road Seat/Saddle</td></tr>",
                            "<tr><td>Moscow</td><td>316679</td><td>Touring-3000 Blue, 62</td></tr>",
                            "</table>"
                        ]
                    }
                }
            ],
            "execution_count": 7
        },
        {
            "cell_type": "code",
            "source": [
                "/* Edades que más compras hacen */\r\n",
                "\r\n",
                "SELECT top(5) customers.Age , Count(Sales.SalesID) as n_pedidos\r\n",
                "From customers\r\n",
                "\tJoin Sales on Sales.CustomerID = customers.CustomerID\r\n",
                "Group by customers.Age\r\n",
                "Order by n_pedidos desc"
            ],
            "metadata": {
                "azdata_cell_guid": "5fe54b0d-a84e-4848-807e-86da3e912d2e",
                "language": "sql"
            },
            "outputs": [
                {
                    "output_type": "display_data",
                    "data": {
                        "text/html": "(5 rows affected)"
                    },
                    "metadata": {}
                },
                {
                    "output_type": "display_data",
                    "data": {
                        "text/html": "Total execution time: 00:00:00.985"
                    },
                    "metadata": {}
                },
                {
                    "output_type": "execute_result",
                    "metadata": {},
                    "execution_count": 8,
                    "data": {
                        "application/vnd.dataresource+json": {
                            "schema": {
                                "fields": [
                                    {
                                        "name": "Age"
                                    },
                                    {
                                        "name": "n_pedidos"
                                    }
                                ]
                            },
                            "data": [
                                {
                                    "Age": "38",
                                    "n_pedidos": "350860"
                                },
                                {
                                    "Age": "56",
                                    "n_pedidos": "242370"
                                },
                                {
                                    "Age": "54",
                                    "n_pedidos": "236692"
                                },
                                {
                                    "Age": "64",
                                    "n_pedidos": "219971"
                                },
                                {
                                    "Age": "50",
                                    "n_pedidos": "218490"
                                }
                            ]
                        },
                        "text/html": [
                            "<table>",
                            "<tr><th>Age</th><th>n_pedidos</th></tr>",
                            "<tr><td>38</td><td>350860</td></tr>",
                            "<tr><td>56</td><td>242370</td></tr>",
                            "<tr><td>54</td><td>236692</td></tr>",
                            "<tr><td>64</td><td>219971</td></tr>",
                            "<tr><td>50</td><td>218490</td></tr>",
                            "</table>"
                        ]
                    }
                }
            ],
            "execution_count": 8
        },
        {
            "cell_type": "code",
            "source": [
                "/* Fracción de Envíos locales vs total de envíos */\r\n",
                "\r\n",
                "Select total_envios.city_name, (local_envios.local_envios*100 / total_envios.total_envios) as porcentaje_envios_locales\r\n",
                "From (\r\n",
                "    SELECT top(500) cities.cityname as city_name, count(sales.salesid) as total_envios\r\n",
                "    From sales\r\n",
                "        join customers on sales.customerid = customers.customerid\r\n",
                "        join products on sales.productid = products.productid\r\n",
                "        join cities on customers.cityid = cities.cityid\r\n",
                "    group by cities.cityname\r\n",
                ") as total_envios\r\n",
                "left Join (\r\n",
                "    SELECT top(500) cities.cityname as city_name, count(sales.salesid) as local_envios\r\n",
                "    From sales\r\n",
                "        join customers on sales.customerid = customers.customerid\r\n",
                "        join products on (products.CityID = customers.CityID and products.productid = sales.productid) \r\n",
                "        join cities on customers.cityid = cities.cityid\r\n",
                "    group by cities.cityname\r\n",
                ") as local_envios on total_envios.city_name = local_envios.city_name\r\n",
                "order by porcentaje_envios_locales desc"
            ],
            "metadata": {
                "azdata_cell_guid": "ca788989-aeff-4e1f-a453-103d1bc6c4c2",
                "language": "sql"
            },
            "outputs": [
                {
                    "output_type": "display_data",
                    "data": {
                        "text/html": "(27 rows affected)"
                    },
                    "metadata": {}
                },
                {
                    "output_type": "display_data",
                    "data": {
                        "text/html": "Total execution time: 00:00:03.909"
                    },
                    "metadata": {}
                },
                {
                    "output_type": "execute_result",
                    "metadata": {},
                    "execution_count": 9,
                    "data": {
                        "application/vnd.dataresource+json": {
                            "schema": {
                                "fields": [
                                    {
                                        "name": "city_name"
                                    },
                                    {
                                        "name": "porcentaje_envios_locales"
                                    }
                                ]
                            },
                            "data": [
                                {
                                    "city_name": "Paris",
                                    "porcentaje_envios_locales": "9"
                                },
                                {
                                    "city_name": "Cairo",
                                    "porcentaje_envios_locales": "7"
                                },
                                {
                                    "city_name": "Amsterdam",
                                    "porcentaje_envios_locales": "7"
                                },
                                {
                                    "city_name": "Seoul",
                                    "porcentaje_envios_locales": "3"
                                },
                                {
                                    "city_name": "Dubai",
                                    "porcentaje_envios_locales": "2"
                                },
                                {
                                    "city_name": "San Francisco",
                                    "porcentaje_envios_locales": "2"
                                },
                                {
                                    "city_name": "Beijing",
                                    "porcentaje_envios_locales": "2"
                                },
                                {
                                    "city_name": "Bangkok",
                                    "porcentaje_envios_locales": "1"
                                },
                                {
                                    "city_name": "Prague",
                                    "porcentaje_envios_locales": "1"
                                },
                                {
                                    "city_name": "Rio de Janeiro",
                                    "porcentaje_envios_locales": "1"
                                },
                                {
                                    "city_name": "Rome",
                                    "porcentaje_envios_locales": "1"
                                },
                                {
                                    "city_name": "New York",
                                    "porcentaje_envios_locales": "1"
                                },
                                {
                                    "city_name": "Sydney",
                                    "porcentaje_envios_locales": "1"
                                },
                                {
                                    "city_name": "Tokyo",
                                    "porcentaje_envios_locales": "0"
                                },
                                {
                                    "city_name": "Toronto",
                                    "porcentaje_envios_locales": "0"
                                },
                                {
                                    "city_name": "Vienna",
                                    "porcentaje_envios_locales": "0"
                                },
                                {
                                    "city_name": "London",
                                    "porcentaje_envios_locales": "0"
                                },
                                {
                                    "city_name": "Mumbai",
                                    "porcentaje_envios_locales": "0"
                                },
                                {
                                    "city_name": "Auckland",
                                    "porcentaje_envios_locales": "0"
                                },
                                {
                                    "city_name": "Istanbul",
                                    "porcentaje_envios_locales": "0"
                                },
                                {
                                    "city_name": "Moscow",
                                    "porcentaje_envios_locales": "NULL"
                                },
                                {
                                    "city_name": "Athens",
                                    "porcentaje_envios_locales": "NULL"
                                },
                                {
                                    "city_name": "Barcelona",
                                    "porcentaje_envios_locales": "NULL"
                                },
                                {
                                    "city_name": "Buenos Aires",
                                    "porcentaje_envios_locales": "NULL"
                                },
                                {
                                    "city_name": "Berlin",
                                    "porcentaje_envios_locales": "NULL"
                                },
                                {
                                    "city_name": "Cape Town",
                                    "porcentaje_envios_locales": "NULL"
                                },
                                {
                                    "city_name": "Singapore",
                                    "porcentaje_envios_locales": "NULL"
                                }
                            ]
                        },
                        "text/html": [
                            "<table>",
                            "<tr><th>city_name</th><th>porcentaje_envios_locales</th></tr>",
                            "<tr><td>Paris</td><td>9</td></tr>",
                            "<tr><td>Cairo</td><td>7</td></tr>",
                            "<tr><td>Amsterdam</td><td>7</td></tr>",
                            "<tr><td>Seoul</td><td>3</td></tr>",
                            "<tr><td>Dubai</td><td>2</td></tr>",
                            "<tr><td>San Francisco</td><td>2</td></tr>",
                            "<tr><td>Beijing</td><td>2</td></tr>",
                            "<tr><td>Bangkok</td><td>1</td></tr>",
                            "<tr><td>Prague</td><td>1</td></tr>",
                            "<tr><td>Rio de Janeiro</td><td>1</td></tr>",
                            "<tr><td>Rome</td><td>1</td></tr>",
                            "<tr><td>New York</td><td>1</td></tr>",
                            "<tr><td>Sydney</td><td>1</td></tr>",
                            "<tr><td>Tokyo</td><td>0</td></tr>",
                            "<tr><td>Toronto</td><td>0</td></tr>",
                            "<tr><td>Vienna</td><td>0</td></tr>",
                            "<tr><td>London</td><td>0</td></tr>",
                            "<tr><td>Mumbai</td><td>0</td></tr>",
                            "<tr><td>Auckland</td><td>0</td></tr>",
                            "<tr><td>Istanbul</td><td>0</td></tr>",
                            "<tr><td>Moscow</td><td>NULL</td></tr>",
                            "<tr><td>Athens</td><td>NULL</td></tr>",
                            "<tr><td>Barcelona</td><td>NULL</td></tr>",
                            "<tr><td>Buenos Aires</td><td>NULL</td></tr>",
                            "<tr><td>Berlin</td><td>NULL</td></tr>",
                            "<tr><td>Cape Town</td><td>NULL</td></tr>",
                            "<tr><td>Singapore</td><td>NULL</td></tr>",
                            "</table>"
                        ]
                    }
                }
            ],
            "execution_count": 9
        }
    ]
}